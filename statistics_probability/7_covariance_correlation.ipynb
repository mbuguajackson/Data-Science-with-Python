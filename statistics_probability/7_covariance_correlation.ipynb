{
 "cells": [
  {
   "cell_type": "markdown",
   "metadata": {},
   "source": [
    "Covariance - is how two variables vary tandem from their means\n",
    "Correlation - relationship between 2 variables\n",
    "\n",
    "Measuring covariance\n",
    "- Convert these dots to vectors of variance from the mean\n",
    "- Measure the angle between two vectors (dot product)\n",
    "- Divide by sample size\n",
    "\n",
    "Interpreting covariance is hard\n",
    "- small covariance (close to 0) = No much correlation\n",
    "- Large correlation - far from 0, either -ve or +ve\n",
    "- But how large is large?\n",
    "\n",
    "Do this:\n",
    "- Divide the covariance by the standard deviation of both variables, and that normalizes things.\n",
    "- correlation of -1 means a perfect inverse correlation\n",
    "- correlaton of 0: no correlation\n",
    "-correlation of 1: perfect correlation\n",
    "\n",
    "NB: Correlation does not imply causation!"
   ]
  },
  {
   "cell_type": "code",
   "execution_count": 1,
   "metadata": {},
   "outputs": [
    {
     "ename": "NameError",
     "evalue": "name 'np' is not defined",
     "output_type": "error",
     "traceback": [
      "\u001b[1;31m---------------------------------------------------------------------------\u001b[0m",
      "\u001b[1;31mNameError\u001b[0m                                 Traceback (most recent call last)",
      "Cell \u001b[1;32mIn[1], line 9\u001b[0m\n\u001b[0;32m      6\u001b[0m     n\u001b[38;5;241m=\u001b[39m\u001b[38;5;28mlen\u001b[39m(x)\n\u001b[0;32m      7\u001b[0m     \u001b[38;5;28;01mreturn\u001b[39;00m dot(de_mean(x),de_mean(y))\u001b[38;5;241m/\u001b[39m(n\u001b[38;5;241m-\u001b[39m\u001b[38;5;241m1\u001b[39m)\n\u001b[1;32m----> 9\u001b[0m pageSpeeds\u001b[38;5;241m=\u001b[39m\u001b[43mnp\u001b[49m\u001b[38;5;241m.\u001b[39mrandom\u001b[38;5;241m.\u001b[39mnormal(\u001b[38;5;241m3.0\u001b[39m,\u001b[38;5;241m1.0\u001b[39m,\u001b[38;5;241m1000\u001b[39m)\n\u001b[0;32m     10\u001b[0m purchaseAmount\u001b[38;5;241m=\u001b[39mnp\u001b[38;5;241m.\u001b[39mrandom\u001b[38;5;241m.\u001b[39mnormal(\u001b[38;5;241m50.0\u001b[39m,\u001b[38;5;241m10.0\u001b[39m,\u001b[38;5;241m1000\u001b[39m)\n\u001b[0;32m     12\u001b[0m scatter(pageSpeeds,purchaseAmount)\n",
      "\u001b[1;31mNameError\u001b[0m: name 'np' is not defined"
     ]
    }
   ],
   "source": [
    "def de_mean():\n",
    "    xmean=mean(x)\n",
    "    return(xi - xmean for xi in x)\n",
    "\n",
    "def covariance(x,y):\n",
    "    n=len(x)\n",
    "    return dot(de_mean(x),de_mean(y))/(n-1)\n",
    "\n",
    "pageSpeeds=np.random.normal(3.0,1.0,1000)\n",
    "purchaseAmount=np.random.normal(50.0,10.0,1000)\n",
    "\n",
    "scatter(pageSpeeds,purchaseAmount)\n"
   ]
  }
 ],
 "metadata": {
  "kernelspec": {
   "display_name": "venv",
   "language": "python",
   "name": "python3"
  },
  "language_info": {
   "codemirror_mode": {
    "name": "ipython",
    "version": 3
   },
   "file_extension": ".py",
   "mimetype": "text/x-python",
   "name": "python",
   "nbconvert_exporter": "python",
   "pygments_lexer": "ipython3",
   "version": "3.12.3"
  }
 },
 "nbformat": 4,
 "nbformat_minor": 2
}
