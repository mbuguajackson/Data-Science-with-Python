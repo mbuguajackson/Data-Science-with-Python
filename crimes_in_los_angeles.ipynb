{
  "nbformat": 4,
  "nbformat_minor": 0,
  "metadata": {
    "colab": {
      "provenance": [],
      "authorship_tag": "ABX9TyNtTu8J4324nP+mvmpeUHhb",
      "include_colab_link": true
    },
    "kernelspec": {
      "name": "python3",
      "display_name": "Python 3"
    },
    "language_info": {
      "name": "python"
    }
  },
  "cells": [
    {
      "cell_type": "markdown",
      "metadata": {
        "id": "view-in-github",
        "colab_type": "text"
      },
      "source": [
        "<a href=\"https://colab.research.google.com/github/mbuguajackson/Data-Science-with-Python/blob/main/crimes_in_los_angeles.ipynb\" target=\"_parent\"><img src=\"https://colab.research.google.com/assets/colab-badge.svg\" alt=\"Open In Colab\"/></a>"
      ]
    },
    {
      "cell_type": "code",
      "execution_count": 1,
      "metadata": {
        "id": "KZ743ok-J9aT"
      },
      "outputs": [],
      "source": [
        "import pandas as pd"
      ]
    },
    {
      "cell_type": "code",
      "source": [
        "#read csv data\n",
        "from google.colab import drive\n",
        "drive.mount('/content/gdrive')\n",
        "\n",
        "data=pd.read_csv('/content/gdrive/My Drive/Colab Notebooks/Data Science/crimes.csv')\n"
      ],
      "metadata": {
        "colab": {
          "base_uri": "https://localhost:8080/"
        },
        "id": "rHElPEFTKeX3",
        "outputId": "e0752353-4cb2-4ba0-cb0a-210df8245c53"
      },
      "execution_count": 40,
      "outputs": [
        {
          "output_type": "stream",
          "name": "stdout",
          "text": [
            "Drive already mounted at /content/gdrive; to attempt to forcibly remount, call drive.mount(\"/content/gdrive\", force_remount=True).\n"
          ]
        }
      ]
    },
    {
      "cell_type": "code",
      "source": [
        "# Which hour has the highest frequency of crimes? Store as an integer variable called peak_crime_hour.\n",
        "peak_crime_hour = data['TIME OCC'].value_counts().idxmax()\n",
        "peak_crime_hour\n"
      ],
      "metadata": {
        "colab": {
          "base_uri": "https://localhost:8080/"
        },
        "id": "TTAI4wX-MkfM",
        "outputId": "3ddd5d3e-40f9-4b60-d8fd-d2fea686f216"
      },
      "execution_count": 42,
      "outputs": [
        {
          "output_type": "execute_result",
          "data": {
            "text/plain": [
              "np.int64(1200)"
            ]
          },
          "metadata": {},
          "execution_count": 42
        }
      ]
    },
    {
      "cell_type": "code",
      "source": [
        "# Which area has the largest frequency of night crimes (crimes committed between 10pm and 3:59am)? Save as a string variable called peak_night_crime_location.\n",
        "peak_night_crime_location = data[(data['TIME OCC'] >= 2200) | (data['TIME OCC'] <= 359)]['AREA NAME'].value_counts().idxmax()\n",
        "peak_night_crime_location"
      ],
      "metadata": {
        "colab": {
          "base_uri": "https://localhost:8080/",
          "height": 35
        },
        "id": "fAvZUpPhOZtz",
        "outputId": "81a204ed-7e73-4bee-a340-7a89df3acae9"
      },
      "execution_count": 49,
      "outputs": [
        {
          "output_type": "execute_result",
          "data": {
            "text/plain": [
              "'Central'"
            ],
            "application/vnd.google.colaboratory.intrinsic+json": {
              "type": "string"
            }
          },
          "metadata": {},
          "execution_count": 49
        }
      ]
    },
    {
      "cell_type": "code",
      "source": [
        "# Identify the number of crimes committed against victims of different age groups.\n",
        "# Save as a pandas Series called victim_ages, with age group labels \"0-17\", \"18-25\", \"26-34\", \"35-44\", \"45-54\", \"55-64\", and \"65+\" as the index and the frequency of crimes as the values.\n",
        "\n",
        "#define age bins\n",
        "age_bins = [0,17,25,34,44,54,64,float('inf')]\n",
        "age_labels = ['0-17','18-25','26-34','35-44','45-54','55-64','65+']\n",
        "\n",
        "#cut the ages into groups\n",
        "data['AGE GROUP'] = pd.cut(data['Vict Age'], bins=age_bins, labels=age_labels, right=True)\n",
        "\n",
        "#Count crimes per age group\n",
        "victim_ages = data['AGE GROUP'].value_counts().sort_index()\n",
        "victim_ages"
      ],
      "metadata": {
        "colab": {
          "base_uri": "https://localhost:8080/",
          "height": 335
        },
        "id": "DS6DbMpvR_Cf",
        "outputId": "115c4134-bc8c-4fb6-afec-d72a6316f7d3"
      },
      "execution_count": 54,
      "outputs": [
        {
          "output_type": "execute_result",
          "data": {
            "text/plain": [
              "AGE GROUP\n",
              "0-17      4528\n",
              "18-25    28291\n",
              "26-34    47470\n",
              "35-44    42157\n",
              "45-54    28353\n",
              "55-64    20169\n",
              "65+      14747\n",
              "Name: count, dtype: int64"
            ],
            "text/html": [
              "<div>\n",
              "<style scoped>\n",
              "    .dataframe tbody tr th:only-of-type {\n",
              "        vertical-align: middle;\n",
              "    }\n",
              "\n",
              "    .dataframe tbody tr th {\n",
              "        vertical-align: top;\n",
              "    }\n",
              "\n",
              "    .dataframe thead th {\n",
              "        text-align: right;\n",
              "    }\n",
              "</style>\n",
              "<table border=\"1\" class=\"dataframe\">\n",
              "  <thead>\n",
              "    <tr style=\"text-align: right;\">\n",
              "      <th></th>\n",
              "      <th>count</th>\n",
              "    </tr>\n",
              "    <tr>\n",
              "      <th>AGE GROUP</th>\n",
              "      <th></th>\n",
              "    </tr>\n",
              "  </thead>\n",
              "  <tbody>\n",
              "    <tr>\n",
              "      <th>0-17</th>\n",
              "      <td>4528</td>\n",
              "    </tr>\n",
              "    <tr>\n",
              "      <th>18-25</th>\n",
              "      <td>28291</td>\n",
              "    </tr>\n",
              "    <tr>\n",
              "      <th>26-34</th>\n",
              "      <td>47470</td>\n",
              "    </tr>\n",
              "    <tr>\n",
              "      <th>35-44</th>\n",
              "      <td>42157</td>\n",
              "    </tr>\n",
              "    <tr>\n",
              "      <th>45-54</th>\n",
              "      <td>28353</td>\n",
              "    </tr>\n",
              "    <tr>\n",
              "      <th>55-64</th>\n",
              "      <td>20169</td>\n",
              "    </tr>\n",
              "    <tr>\n",
              "      <th>65+</th>\n",
              "      <td>14747</td>\n",
              "    </tr>\n",
              "  </tbody>\n",
              "</table>\n",
              "</div><br><label><b>dtype:</b> int64</label>"
            ]
          },
          "metadata": {},
          "execution_count": 54
        }
      ]
    }
  ]
}